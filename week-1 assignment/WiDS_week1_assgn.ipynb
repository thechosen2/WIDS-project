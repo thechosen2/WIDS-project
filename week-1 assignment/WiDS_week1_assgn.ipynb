{
  "nbformat": 4,
  "nbformat_minor": 0,
  "metadata": {
    "colab": {
      "provenance": []
    },
    "kernelspec": {
      "name": "python3",
      "display_name": "Python 3"
    },
    "language_info": {
      "name": "python"
    }
  },
  "cells": [
    {
      "cell_type": "code",
      "execution_count": null,
      "metadata": {
        "id": "CcCagRBIgZYL"
      },
      "outputs": [],
      "source": [
        "!pip install pandas\n",
        "!pip install yfinance"
      ]
    },
    {
      "cell_type": "code",
      "source": [
        "import pandas as pd\n",
        "import yfinance as yf\n",
        "\n",
        "tickers = [\"AAPL\", \"GOOG\", \"MSFT\", \"AMZN\"]\n",
        "for tick in tickers:\n",
        "  data=yf.download(tick, start=\"2018-12-31\", end=\"2023-12-31\")\n",
        "  data.to_csv(tick+\"_data.csv\")"
      ],
      "metadata": {
        "id": "rb7OOCKwgh3A"
      },
      "execution_count": null,
      "outputs": []
    },
    {
      "cell_type": "code",
      "source": [
        "for tick in tickers:\n",
        "  stock_data=pd.read_csv(\"./\"+tick+\"_data.csv\", index_col=\"Date\")\n",
        "  display(stock_data)"
      ],
      "metadata": {
        "id": "F4azFajbu497"
      },
      "execution_count": null,
      "outputs": []
    }
  ]
}